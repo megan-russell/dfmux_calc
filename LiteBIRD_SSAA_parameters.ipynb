{
 "cells": [
  {
   "cell_type": "markdown",
   "id": "e5347640-af6f-4811-965f-1b43d6e7afc9",
   "metadata": {},
   "source": [
    "# SSAA Parameter Requirements\n",
    "\n",
    "Use a modified version of dfmux_calc to define simplified SQUID requirement for Stephen Boyd's design work."
   ]
  },
  {
   "cell_type": "markdown",
   "id": "d6e4a903",
   "metadata": {},
   "source": [
    "First, we have to install all the required packages. With conda on linux, this can be done with\n",
    "```\n",
    "conda install -c conda-forge ngspice-lib # optional\n",
    "conda install -c conda-forge pyspice\n",
    "pyspice-post-installation --check-install\n",
    "```"
   ]
  },
  {
   "cell_type": "code",
   "execution_count": null,
   "id": "1bebb425-61e3-4562-8aa7-4920decb01e0",
   "metadata": {},
   "outputs": [],
   "source": [
    "import sys\n",
    "import os\n",
    "import numpy as np\n",
    "from dfmux_calc import DfMuxSystem\n",
    "from matplotlib import pyplot as plt"
   ]
  },
  {
   "cell_type": "code",
   "execution_count": null,
   "id": "3e2dd1fd",
   "metadata": {},
   "outputs": [],
   "source": [
    "def print_attributes(obj, indent=0, seen=None):\n",
    "    if seen is None:\n",
    "        seen = set()\n",
    "\n",
    "    # Avoid revisiting the same object to prevent infinite recursion\n",
    "    if id(obj) in seen:\n",
    "        print(\" \" * indent + str(obj) + \": <Already Visited>\")\n",
    "        return\n",
    "    seen.add(id(obj))\n",
    "\n",
    "    # Iterate over all attributes of the object\n",
    "    for attr in dir(obj):\n",
    "        try:\n",
    "            # Skip built-in attributes\n",
    "            if attr.startswith(\"__\"):\n",
    "                continue\n",
    "            value = getattr(obj, attr)\n",
    "            print(\" \" * indent + str(attr) + \": \", end=\"\")\n",
    "            # If the attribute is a basic data type, print it directly\n",
    "            if not hasattr(value, '__dict__') and not isinstance(value, (list, tuple, dict, set)):\n",
    "                print(value)\n",
    "            else:\n",
    "                print()\n",
    "                # Recursively print attributes of the attribute\n",
    "                print_attributes(value, indent + 4, seen)\n",
    "        except Exception as e:\n",
    "            print(\"<Error on accessing attribute: {}>\".format(e))"
   ]
  },
  {
   "cell_type": "code",
   "execution_count": null,
   "id": "a8ac11c6",
   "metadata": {},
   "outputs": [],
   "source": [
    "dfmux_system = DfMuxSystem()\n",
    "def calculate_nei(zt=800., rdyn=300., lin=15e-9, inoise=2.5e-12, frequency=4e6):\n",
    "    dfmux_system.squid_transimpedance = zt\n",
    "    dfmux_system.squid_dynamic_impedance = rdyn\n",
    "    dfmux_system.squid_input_noise = inoise\n",
    "    dfmux_system.squid_input_inductance = lin\n",
    "    dfmux_system.calculate_noise(frequencies=4e6)\n",
    "    return dfmux_system.total_noise[0]*1e12"
   ]
  },
  {
   "cell_type": "code",
   "execution_count": null,
   "id": "86aa4995-fae2-463a-acd8-0e6de32a98e1",
   "metadata": {},
   "outputs": [],
   "source": [
    "npts = 20\n",
    "zt_arr = np.linspace(400,2000, npts)\n",
    "nei_4MHz = [calculate_nei(zt=zt) for zt in zt_arr]\n",
    "plt.plot(zt_arr, nei_4MHz)\n",
    "plt.plot(zt_arr, np.ones(npts)*8.2)\n",
    "plt.xlabel('Transimpedance (Ohms)')\n",
    "plt.ylabel('NEI at 4 MHz (pA/rtHz)')"
   ]
  },
  {
   "cell_type": "code",
   "execution_count": null,
   "id": "e0e1b004-9cc6-4dba-b94b-37fcd46c55f3",
   "metadata": {},
   "outputs": [],
   "source": [
    "npts = 20\n",
    "rdyn_arr = np.linspace(50,500, npts)\n",
    "nei_4MHz = [calculate_nei(rdyn=rdyn) for rdyn in rdyn_arr]\n",
    "plt.plot(rdyn_arr, nei_4MHz)\n",
    "plt.plot(rdyn_arr, np.ones(npts)*8.2)\n",
    "plt.xlabel('Output impedance (Ohms)')\n",
    "plt.ylabel('NEI at 4 MHz (pA/rtHz)')"
   ]
  },
  {
   "cell_type": "code",
   "execution_count": null,
   "id": "f9765cc2-a58a-4305-8899-7ef1e688e76e",
   "metadata": {},
   "outputs": [],
   "source": [
    "lin_arr = np.linspace(5,50, npts)\n",
    "nei_4MHz = [calculate_nei(lin=lin*1e-9) for lin in lin_arr]\n",
    "plt.plot(lin_arr, nei_4MHz)\n",
    "plt.plot(lin_arr, np.ones(npts)*8.2)\n",
    "plt.xlabel('Input Inductance (nH)')\n",
    "plt.ylabel('NEI at 4 MHz (pA/rtHz)')"
   ]
  },
  {
   "cell_type": "code",
   "execution_count": null,
   "id": "edeba495-0dc7-4bc1-a9a0-43c75448065a",
   "metadata": {},
   "outputs": [],
   "source": [
    "inoise_arr = np.linspace(0.5,5, npts)\n",
    "nei_4MHz = [calculate_nei(inoise=inoise*1e-12) for inoise in inoise_arr]\n",
    "plt.plot(inoise_arr, nei_4MHz)\n",
    "plt.plot(inoise_arr, np.ones(npts)*8.2)\n",
    "plt.xlabel('SQUID noise (pA/rtHz)')\n",
    "plt.ylabel('NEI at 4 MHz (pA/rtHz)')"
   ]
  },
  {
   "cell_type": "code",
   "execution_count": null,
   "id": "9bd52fdf-a42a-4bd2-a2df-5aa3ee16319e",
   "metadata": {},
   "outputs": [],
   "source": [
    "zt = 800.\n",
    "ratio = calculate_nei(zt=zt*1.05)/calculate_nei(zt=zt)\n",
    "alpha_zt = (ratio-1)/0.05\n",
    "\n",
    "rdyn = 300.\n",
    "ratio = calculate_nei(rdyn=rdyn*1.05)/calculate_nei(rdyn=rdyn)\n",
    "alpha_rdyn = (ratio-1)/0.05\n",
    "\n",
    "lin = 15e-9\n",
    "ratio = calculate_nei(lin=lin*1.05)/calculate_nei(lin=lin)\n",
    "alpha_lin = (ratio-1)/0.05\n",
    "\n",
    "inoise = 2.5e-12\n",
    "ratio = calculate_nei(inoise=inoise*1.05)/calculate_nei(inoise=inoise)\n",
    "alpha_inoise = (ratio-1)/0.05\n",
    "\n",
    "print(alpha_zt)\n",
    "print(alpha_rdyn)\n",
    "print(alpha_lin)\n",
    "print(alpha_inoise)"
   ]
  },
  {
   "cell_type": "code",
   "execution_count": null,
   "id": "f7233b5d-fb31-43a9-ae5e-adf019efef4a",
   "metadata": {},
   "outputs": [],
   "source": [
    "nei_formula = lambda zt,zdyn,lin,sqn: 8.2 * (zt/800.)**alpha_zt * (zdyn/300.)**alpha_rdyn * (lin/15e-9)**alpha_lin * (sqn/2.5e-12)**alpha_inoise"
   ]
  },
  {
   "cell_type": "code",
   "execution_count": null,
   "id": "54a1e8b7-027b-4f35-a8f3-8366005c15ba",
   "metadata": {},
   "outputs": [],
   "source": [
    "nei_formula(800,300,15e-9,2.5e-12)"
   ]
  },
  {
   "cell_type": "markdown",
   "id": "8732ad1e-b1af-4dfa-8e2c-34ed6190294f",
   "metadata": {},
   "source": [
    "The requirement is \n",
    "$$\\mathrm{NEI}_\\mathrm{4 MHz} < 8.2 \\mathrm{pA/rtHz} (Z_\\mathrm{trans}/800 \\Omega)^{-0.27} (Z_\\mathrm{out}/300 \\Omega)^{0.09} (L_\\mathrm{in}/15 \\mathrm{nH})^{0.23} (\\mathrm{NEI}_\\mathrm{SSAA}/2.5 \\mathrm{pA/rtHz})^{0.42} $$"
   ]
  },
  {
   "cell_type": "markdown",
   "id": "05dc93c8",
   "metadata": {},
   "source": [
    "### Baseline \"compromise\" equation (TTScore)"
   ]
  },
  {
   "cell_type": "markdown",
   "id": "96db007a",
   "metadata": {},
   "source": [
    "Tucker and I disagreed on the details of this calculation. The primary sticking point was that I thought the metric should be evaluated at 4 MHz, while Tucker thought the 1.6 MHz performance more important. \n",
    "\n",
    "However, we somewhat coincidentally agreed that the nominal parameters (800,300,15,2.5) were at the edge of acceptable for LiteBIRD.\n",
    "\n",
    "We therefore decided on the following \"compromise\" equation that we set as the tentative LiteBIRD requirement."
   ]
  },
  {
   "cell_type": "markdown",
   "id": "7ca66e8e-8601-4d87-bc4d-d3754e427ccc",
   "metadata": {},
   "source": [
    "$$(Z_\\mathrm{trans}/800 \\Omega)^{-1} (Z_\\mathrm{out}/300 \\Omega)^{0.18} (L_\\mathrm{in}/15 \\mathrm{nH})^{0.47} (\\mathrm{NEI}_\\mathrm{SSAA}/2.5 \\mathrm{pA/rtHz})^{1.24} < 1$$"
   ]
  },
  {
   "cell_type": "markdown",
   "id": "fa2602e4",
   "metadata": {},
   "source": [
    "### 2023-12-15 Evaluate new designs"
   ]
  },
  {
   "cell_type": "code",
   "execution_count": null,
   "id": "ca1d03d5",
   "metadata": {},
   "outputs": [],
   "source": [
    "# 1b design\n",
    "calculate_nei(zt=296.,rdyn=141.8,lin=17.6e-9,inoise=1.16e-12)"
   ]
  },
  {
   "cell_type": "code",
   "execution_count": null,
   "id": "8f0856a0",
   "metadata": {},
   "outputs": [],
   "source": [
    "# 2b design\n",
    "calculate_nei(zt=300.,rdyn=120.3,lin=13.0e-9,inoise=1.36e-12)"
   ]
  },
  {
   "cell_type": "code",
   "execution_count": null,
   "id": "163a8cf6",
   "metadata": {},
   "outputs": [],
   "source": [
    "# 5b design\n",
    "calculate_nei(zt=348.,rdyn=105.4,lin=6.18e-9,inoise=2.05e-12)"
   ]
  },
  {
   "cell_type": "code",
   "execution_count": null,
   "id": "c621fffd",
   "metadata": {},
   "outputs": [],
   "source": [
    "# 1u design\n",
    "calculate_nei(zt=440.5,rdyn=99.5,lin=8.65e-9,inoise=2.21e-12)"
   ]
  },
  {
   "cell_type": "code",
   "execution_count": null,
   "id": "e7f445e6",
   "metadata": {},
   "outputs": [],
   "source": [
    "# 2u design\n",
    "calculate_nei(zt=415.,rdyn=102.1,lin=8.03e-9,inoise=2.14e-12)"
   ]
  },
  {
   "cell_type": "code",
   "execution_count": null,
   "id": "52482460",
   "metadata": {},
   "outputs": [],
   "source": [
    "# 5u design\n",
    "calculate_nei(zt=434.,rdyn=139.5,lin=8.34e-9,inoise=2.08e-12)"
   ]
  },
  {
   "cell_type": "code",
   "execution_count": null,
   "id": "e9feb7e8",
   "metadata": {},
   "outputs": [],
   "source": [
    "# 75 nW 5b design\n",
    "calculate_nei(zt=1862.,rdyn=563.9,lin=33.1e-9,inoise=0.88e-12)"
   ]
  },
  {
   "cell_type": "markdown",
   "id": "ee6ff27c",
   "metadata": {},
   "source": [
    "The 75 nW 5b design looks very good. The other designs don't quite meet the requirement."
   ]
  },
  {
   "cell_type": "markdown",
   "id": "710e7174",
   "metadata": {},
   "source": []
  }
 ],
 "metadata": {
  "kernelspec": {
   "display_name": "Python 3 (ipykernel)",
   "language": "python",
   "name": "python3"
  },
  "language_info": {
   "codemirror_mode": {
    "name": "ipython",
    "version": 3
   },
   "file_extension": ".py",
   "mimetype": "text/x-python",
   "name": "python",
   "nbconvert_exporter": "python",
   "pygments_lexer": "ipython3",
   "version": "3.10.12"
  }
 },
 "nbformat": 4,
 "nbformat_minor": 5
}
